{
  "cells": [
    {
      "cell_type": "code",
      "execution_count": 20,
      "metadata": {
        "colab": {
          "base_uri": "https://localhost:8080/"
        },
        "id": "VnFgHVazFNdy",
        "outputId": "2b62f652-cffe-46f5-9aa3-cd583ec84ce9"
      },
      "outputs": [
        {
          "name": "stdout",
          "output_type": "stream",
          "text": [
            "Enter your skills (comma-separated): Java\n",
            "Enter the required skills for the job (comma-separated): Python\n",
            "\n",
            "Recommended courses to bridge your skill gap:\n",
            "1. Applied Data Science Specialization\n",
            "   URL: https://www.coursera.org/specializations/applied-data-science\n",
            "   Match score: 0.33\n",
            "\n",
            "2. Applied Software Engineering Fundamentals Specialization\n",
            "   URL: https://www.coursera.org/specializations/software-engineering-fundamentals\n",
            "   Match score: 0.33\n",
            "\n",
            "3. DevOps, Cloud, and Agile Foundations Specialization\n",
            "   URL: https://www.coursera.org/specializations/devops-cloud-and-agile-foundations\n",
            "   Match score: 0.33\n",
            "\n",
            "4. Business Foundations Specialization\n",
            "   URL: https://www.coursera.org/specializations/wharton-business-foundations\n",
            "   Match score: 0.33\n",
            "\n",
            "5. Machine Learning Engineering for Production (MLOps) Specialization\n",
            "   URL: https://www.coursera.org/specializations/machine-learning-engineering-for-production-mlops\n",
            "   Match score: 0.33\n",
            "\n"
          ]
        }
      ],
      "source": [
        "import pandas as pd\n",
        "\n",
        "# Load the dataset\n",
        "data = pd.read_csv('/content/drive/MyDrive/Colab Notebooks/job_dataset')\n",
        "\n",
        "def skill_match(Candidate_Skills, Required_Skills):\n",
        "    candidate_set = set(Candidate_Skills.lower().split(','))\n",
        "    required_set = set(Required_Skills.lower().split(','))\n",
        "    return len(candidate_set.intersection(required_set)) / len(required_set)\n",
        "def recommend_courses(Candidate_Skills, Required_Skills, data, top_n=5):\n",
        "    skill_gaps = set(Required_Skills.lower().split(',')) - set(Candidate_Skills.lower().split(','))\n",
        "\n",
        "    recommendations = []\n",
        "    for _, row in data.iterrows():\n",
        "        course_skills = set(row['Required_Skills'].lower().split(','))\n",
        "        if len(skill_gaps.intersection(course_skills)) > 0:\n",
        "            match_score = skill_match(Candidate_Skills, row['Required_Skills'])\n",
        "            recommendations.append((row['Title'], row['URL'], match_score))\n",
        "\n",
        "    recommendations.sort(key=lambda x: x[2], reverse=True)\n",
        "    return recommendations[:top_n]\n",
        "\n",
        "# Get user input\n",
        "Candidate_Skills = input(\"Enter your skills (comma-separated): \")\n",
        "Required_Skills = input(\"Enter the required skills for the job (comma-separated): \")\n",
        "\n",
        "# Get recommendations\n",
        "recommendations = recommend_courses(Candidate_Skills, Required_Skills, data)\n",
        "\n",
        "# Display recommendations\n",
        "print(\"\\nRecommended courses to bridge your skill gap:\")\n",
        "for i, (title, url, score) in enumerate(recommendations, 1):\n",
        "    print(f\"{i}. {title}\")\n",
        "    print(f\"   URL: {url}\")\n",
        "    print(f\"   Match score: {score:.2f}\")\n",
        "    print()"
      ]
    }
  ],
  "metadata": {
    "colab": {
      "provenance": []
    },
    "kernelspec": {
      "display_name": "Python 3",
      "name": "python3"
    },
    "language_info": {
      "name": "python"
    }
  },
  "nbformat": 4,
  "nbformat_minor": 0
}
